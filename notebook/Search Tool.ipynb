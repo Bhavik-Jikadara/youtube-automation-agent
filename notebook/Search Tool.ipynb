{
 "cells": [
  {
   "cell_type": "code",
   "execution_count": null,
   "metadata": {},
   "outputs": [],
   "source": [
    "import requests\n",
    "import os\n",
    "from typing import List, Type\n",
    "from pydantic import BaseModel, Field\n",
    "from crewai_tools import BaseTool\n",
    "from datetime import datetime, timezone\n",
    "from dotenv import load_dotenv, find_dotenv\n",
    "load_dotenv(find_dotenv())"
   ]
  },
  {
   "cell_type": "code",
   "execution_count": 2,
   "metadata": {},
   "outputs": [],
   "source": [
    "class VideoSearchResult(BaseModel):\n",
    "    video_id: str\n",
    "    title: str\n",
    "    channel_id: str\n",
    "    channel_title: str\n",
    "    days_since_published: int\n",
    "\n",
    "class YoutubeVideoSearchToolInput(BaseModel):\n",
    "    keyword: str = Field(..., description=\"The search keyword.\")\n",
    "    max_results: int = Field(\n",
    "        default=10, description=\"The maximum number of results to return.\"\n",
    "    )"
   ]
  },
  {
   "cell_type": "code",
   "execution_count": 3,
   "metadata": {},
   "outputs": [],
   "source": [
    "class YoutubeVideoSearchTool(BaseTool):\n",
    "    name: str = \"Search YouTube Videos\"\n",
    "    description: str = \"Searches YouTube videos based on a keyword and returns a list of video search results.\"\n",
    "    args_schema: Type[BaseModel] = YoutubeVideoSearchToolInput\n",
    "\n",
    "    def _run(self, keyword: str, max_results: int = 15) -> List[VideoSearchResult]:\n",
    "        api_key = os.getenv(\"GOOGLE_API_KEY\")\n",
    "        if not api_key:\n",
    "            raise ValueError(\"YouTube API key is not set in environment variables\")\n",
    "\n",
    "        url = \"https://www.googleapis.com/youtube/v3/search\"\n",
    "        params = {\n",
    "            \"part\": \"snippet\",\n",
    "            \"q\": keyword,\n",
    "            \"maxResults\": max_results,\n",
    "            \"type\": \"video\",\n",
    "            \"key\": api_key\n",
    "        }\n",
    "\n",
    "        try:\n",
    "            # Print out the full request URL for debugging\n",
    "            print(f\"Request URL: {url}\")\n",
    "            print(f\"Request Params: {params}\")\n",
    "\n",
    "            response = requests.get(url, params=params)\n",
    "            \n",
    "            # More detailed error handling\n",
    "            if response.status_code != 200:\n",
    "                print(f\"Error Response: {response.text}\")\n",
    "                response.raise_for_status()\n",
    "\n",
    "            data = response.json()\n",
    "            items = data.get(\"items\", [])\n",
    "\n",
    "            results = []\n",
    "            for item in items:\n",
    "                try:\n",
    "                    video_id = item[\"id\"][\"videoId\"]\n",
    "                    title = item[\"snippet\"][\"title\"]\n",
    "                    channel_id = item[\"snippet\"][\"channelId\"]\n",
    "                    channel_title = item[\"snippet\"][\"channelTitle\"]\n",
    "                    publish_date = datetime.fromisoformat(\n",
    "                        item[\"snippet\"][\"publishedAt\"].replace('Z', '+00:00')).astimezone(timezone.utc)\n",
    "                    days_since_published = (datetime.now(\n",
    "                        timezone.utc) - publish_date).days\n",
    "                    results.append(VideoSearchResult(\n",
    "                        video_id=video_id,\n",
    "                        title=title,\n",
    "                        channel_id=channel_id,\n",
    "                        channel_title=channel_title,\n",
    "                        days_since_published=days_since_published\n",
    "                    ))\n",
    "                except KeyError as parse_error:\n",
    "                    print(f\"Error parsing video item: {parse_error}\")\n",
    "                    print(f\"Problematic item: {item}\")\n",
    "\n",
    "            return results\n",
    "\n",
    "        except requests.RequestException as e:\n",
    "            print(f\"Request failed: {e}\")\n",
    "            raise"
   ]
  },
  {
   "cell_type": "code",
   "execution_count": 4,
   "metadata": {},
   "outputs": [],
   "source": [
    "video_topic = \"Automating Tasks Using CrewAI\"\n",
    "video_details = \"\"\"In this video, we're diving into the innovative ways I'm using CrewAI to automate my YouTube channel. From conducting thorough research to streamline video preparation, CrewAI is revolutionizing how I create content. But that's not all - I'm also exploring how to harness the power of CrewAI to generate personalized emails for my subscribers. Join me on this journey as I unlock the potential of AI to enhance my YouTube channel and connect with my audience like never before.\"\"\""
   ]
  },
  {
   "cell_type": "code",
   "execution_count": 5,
   "metadata": {},
   "outputs": [],
   "source": [
    "tool = YoutubeVideoSearchTool(\n",
    "    name=video_topic,\n",
    "    description=video_details\n",
    ")"
   ]
  },
  {
   "cell_type": "code",
   "execution_count": null,
   "metadata": {},
   "outputs": [],
   "source": [
    "try:\n",
    "    results = tool._run(\n",
    "        keyword=\"CrewAI\",\n",
    "        max_results=5\n",
    "    )\n",
    "except Exception as e:\n",
    "    print(f\"An error occurred: {e}\")"
   ]
  },
  {
   "cell_type": "code",
   "execution_count": null,
   "metadata": {},
   "outputs": [],
   "source": [
    "results"
   ]
  },
  {
   "cell_type": "code",
   "execution_count": null,
   "metadata": {},
   "outputs": [],
   "source": []
  }
 ],
 "metadata": {
  "kernelspec": {
   "display_name": ".venv",
   "language": "python",
   "name": "python3"
  },
  "language_info": {
   "codemirror_mode": {
    "name": "ipython",
    "version": 3
   },
   "file_extension": ".py",
   "mimetype": "text/x-python",
   "name": "python",
   "nbconvert_exporter": "python",
   "pygments_lexer": "ipython3",
   "version": "3.12.7"
  }
 },
 "nbformat": 4,
 "nbformat_minor": 2
}
